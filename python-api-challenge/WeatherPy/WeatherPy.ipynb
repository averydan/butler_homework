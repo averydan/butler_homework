{
 "cells": [
  {
   "cell_type": "markdown",
   "metadata": {},
   "source": [
    "# WeatherPy\n"
   ]
  },
  {
   "cell_type": "markdown",
   "metadata": {},
   "source": [
    "3 Observable Trends:\n",
    "1. The Northern Hemisphere appears to have colder temperatures thand the Southern.  Even with a light data set for the Southern, at -60 and 60 there is a visual difference.\n",
    "2. Humidity seemed shockingly evenly dispersed across the north and south hemispheres\n",
    "3. There is much stronger correlation in the Northern Hemisphere than Southern when comparing Max Temp and Latitude."
   ]
  },
  {
   "cell_type": "code",
   "execution_count": 1,
   "metadata": {
    "scrolled": true
   },
   "outputs": [],
   "source": [
    "import matplotlib.pyplot as plt\n",
    "import pandas as pd\n",
    "import numpy as np\n",
    "import requests\n",
    "import time\n",
    "from datetime import date\n",
    "from scipy.stats import linregress\n",
    "import json\n",
    "from api_keys import weather_api_key\n",
    "from citipy import citipy\n",
    "lat_range = (-90, 90)\n",
    "lng_range = (-180, 180)"
   ]
  },
  {
   "cell_type": "code",
   "execution_count": 2,
   "metadata": {},
   "outputs": [],
   "source": [
    "#Use if not testing API and already have data\n",
    "#file_input = \"./city_data.csv\"\n",
    "#backup_city_data = pd.read_csv(file_input).iloc[: , 1:]\n",
    "#data = backup_city_data"
   ]
  },
  {
   "cell_type": "markdown",
   "metadata": {},
   "source": [
    "## Generate Cities List"
   ]
  },
  {
   "cell_type": "code",
   "execution_count": 3,
   "metadata": {},
   "outputs": [
    {
     "data": {
      "text/plain": [
       "618"
      ]
     },
     "execution_count": 3,
     "metadata": {},
     "output_type": "execute_result"
    }
   ],
   "source": [
    "lat_lngs = []\n",
    "cities = []\n",
    "lats = np.random.uniform(lat_range[0], lat_range[1], size=1500)\n",
    "lngs = np.random.uniform(lng_range[0], lng_range[1], size=1500)\n",
    "lat_lngs = zip(lats, lngs)\n",
    "for lat_lng in lat_lngs:\n",
    "    city = citipy.nearest_city(lat_lng[0], lat_lng[1]).city_name\n",
    "    if city not in cities:\n",
    "        cities.append(city)\n",
    "len(cities)"
   ]
  },
  {
   "cell_type": "markdown",
   "metadata": {},
   "source": [
    "### Perform API Calls\n",
    "* Perform a weather check on each city using a series of successive API calls.\n",
    "* Include a print log of each city as it'sbeing processed (with the city number and city name).\n"
   ]
  },
  {
   "cell_type": "code",
   "execution_count": 4,
   "metadata": {},
   "outputs": [
    {
     "data": {
      "text/html": [
       "<div>\n",
       "<style scoped>\n",
       "    .dataframe tbody tr th:only-of-type {\n",
       "        vertical-align: middle;\n",
       "    }\n",
       "\n",
       "    .dataframe tbody tr th {\n",
       "        vertical-align: top;\n",
       "    }\n",
       "\n",
       "    .dataframe thead th {\n",
       "        text-align: right;\n",
       "    }\n",
       "</style>\n",
       "<table border=\"1\" class=\"dataframe\">\n",
       "  <thead>\n",
       "    <tr style=\"text-align: right;\">\n",
       "      <th></th>\n",
       "      <th>City</th>\n",
       "    </tr>\n",
       "  </thead>\n",
       "  <tbody>\n",
       "    <tr>\n",
       "      <td>0</td>\n",
       "      <td>kosovo polje</td>\n",
       "    </tr>\n",
       "    <tr>\n",
       "      <td>1</td>\n",
       "      <td>hilo</td>\n",
       "    </tr>\n",
       "    <tr>\n",
       "      <td>2</td>\n",
       "      <td>bengkulu</td>\n",
       "    </tr>\n",
       "    <tr>\n",
       "      <td>3</td>\n",
       "      <td>chapais</td>\n",
       "    </tr>\n",
       "    <tr>\n",
       "      <td>4</td>\n",
       "      <td>hamilton</td>\n",
       "    </tr>\n",
       "  </tbody>\n",
       "</table>\n",
       "</div>"
      ],
      "text/plain": [
       "           City\n",
       "0  kosovo polje\n",
       "1          hilo\n",
       "2      bengkulu\n",
       "3       chapais\n",
       "4      hamilton"
      ]
     },
     "execution_count": 4,
     "metadata": {},
     "output_type": "execute_result"
    }
   ],
   "source": [
    "data=pd.DataFrame(cities)\n",
    "data.columns=['City']\n",
    "data.head(5)"
   ]
  },
  {
   "cell_type": "code",
   "execution_count": 5,
   "metadata": {},
   "outputs": [
    {
     "data": {
      "text/html": [
       "<div>\n",
       "<style scoped>\n",
       "    .dataframe tbody tr th:only-of-type {\n",
       "        vertical-align: middle;\n",
       "    }\n",
       "\n",
       "    .dataframe tbody tr th {\n",
       "        vertical-align: top;\n",
       "    }\n",
       "\n",
       "    .dataframe thead th {\n",
       "        text-align: right;\n",
       "    }\n",
       "</style>\n",
       "<table border=\"1\" class=\"dataframe\">\n",
       "  <thead>\n",
       "    <tr style=\"text-align: right;\">\n",
       "      <th></th>\n",
       "      <th>City</th>\n",
       "      <th>Lat</th>\n",
       "      <th>Lng</th>\n",
       "      <th>Max Temp</th>\n",
       "      <th>Humidity</th>\n",
       "      <th>Cloudiness</th>\n",
       "      <th>Wind Speed</th>\n",
       "      <th>Country</th>\n",
       "      <th>Date</th>\n",
       "    </tr>\n",
       "  </thead>\n",
       "  <tbody>\n",
       "    <tr>\n",
       "      <td>0</td>\n",
       "      <td>kosovo polje</td>\n",
       "      <td></td>\n",
       "      <td></td>\n",
       "      <td></td>\n",
       "      <td></td>\n",
       "      <td></td>\n",
       "      <td></td>\n",
       "      <td></td>\n",
       "      <td></td>\n",
       "    </tr>\n",
       "    <tr>\n",
       "      <td>1</td>\n",
       "      <td>hilo</td>\n",
       "      <td></td>\n",
       "      <td></td>\n",
       "      <td></td>\n",
       "      <td></td>\n",
       "      <td></td>\n",
       "      <td></td>\n",
       "      <td></td>\n",
       "      <td></td>\n",
       "    </tr>\n",
       "    <tr>\n",
       "      <td>2</td>\n",
       "      <td>bengkulu</td>\n",
       "      <td></td>\n",
       "      <td></td>\n",
       "      <td></td>\n",
       "      <td></td>\n",
       "      <td></td>\n",
       "      <td></td>\n",
       "      <td></td>\n",
       "      <td></td>\n",
       "    </tr>\n",
       "    <tr>\n",
       "      <td>3</td>\n",
       "      <td>chapais</td>\n",
       "      <td></td>\n",
       "      <td></td>\n",
       "      <td></td>\n",
       "      <td></td>\n",
       "      <td></td>\n",
       "      <td></td>\n",
       "      <td></td>\n",
       "      <td></td>\n",
       "    </tr>\n",
       "    <tr>\n",
       "      <td>4</td>\n",
       "      <td>hamilton</td>\n",
       "      <td></td>\n",
       "      <td></td>\n",
       "      <td></td>\n",
       "      <td></td>\n",
       "      <td></td>\n",
       "      <td></td>\n",
       "      <td></td>\n",
       "      <td></td>\n",
       "    </tr>\n",
       "  </tbody>\n",
       "</table>\n",
       "</div>"
      ],
      "text/plain": [
       "           City Lat Lng Max Temp Humidity Cloudiness Wind Speed Country Date\n",
       "0  kosovo polje                                                             \n",
       "1          hilo                                                             \n",
       "2      bengkulu                                                             \n",
       "3       chapais                                                             \n",
       "4      hamilton                                                             "
      ]
     },
     "execution_count": 5,
     "metadata": {},
     "output_type": "execute_result"
    }
   ],
   "source": [
    "data[\"Lat\"] = \"\"\n",
    "data[\"Lng\"] = \"\"\n",
    "data[\"Max Temp\"] = \"\"\n",
    "data[\"Humidity\"] = \"\"\n",
    "data[\"Cloudiness\"] = \"\"\n",
    "data[\"Wind Speed\"] = \"\"\n",
    "data[\"Country\"] = \"\"\n",
    "data[\"Date\"] = \"\"\n",
    "data.head()"
   ]
  },
  {
   "cell_type": "code",
   "execution_count": 6,
   "metadata": {},
   "outputs": [],
   "source": [
    "url = \"http://api.openweathermap.org/data/2.5/weather?\"\n",
    "units = \"Imperial\""
   ]
  },
  {
   "cell_type": "code",
   "execution_count": 7,
   "metadata": {},
   "outputs": [
    {
     "name": "stdout",
     "output_type": "stream",
     "text": [
      "Processing Record 0 of Set 1 | kosovo polje\n",
      "Processing Record 1 of Set 1 | hilo\n",
      "Processing Record 2 of Set 1 | bengkulu\n",
      "Processing Record 3 of Set 1 | chapais\n",
      "Processing Record 4 of Set 1 | hamilton\n",
      "Missing field/result... skipping.\n",
      "Processing Record 6 of Set 1 | rikitea\n",
      "Processing Record 7 of Set 1 | kahului\n",
      "Processing Record 8 of Set 1 | ushuaia\n",
      "Processing Record 9 of Set 1 | busselton\n",
      "Processing Record 10 of Set 1 | nome\n",
      "Processing Record 11 of Set 1 | qaanaaq\n",
      "Processing Record 12 of Set 1 | severo-kurilsk\n",
      "Processing Record 13 of Set 1 | fairbanks\n",
      "Processing Record 14 of Set 1 | isla vista\n",
      "Processing Record 15 of Set 1 | dillon\n",
      "Processing Record 16 of Set 1 | alice springs\n",
      "Processing Record 17 of Set 1 | tasiilaq\n",
      "Processing Record 18 of Set 1 | jabinyanah\n",
      "Processing Record 19 of Set 1 | sabha\n",
      "Missing field/result... skipping.\n",
      "Processing Record 21 of Set 1 | hobart\n",
      "Processing Record 22 of Set 1 | kodiak\n",
      "Processing Record 23 of Set 1 | pecos\n",
      "Processing Record 24 of Set 1 | east london\n",
      "Processing Record 25 of Set 1 | zapolyarnyy\n",
      "Missing field/result... skipping.\n",
      "Processing Record 27 of Set 1 | ostrovnoy\n",
      "Processing Record 28 of Set 1 | faanui\n",
      "Processing Record 29 of Set 1 | atuona\n",
      "Processing Record 30 of Set 1 | kidal\n",
      "Processing Record 31 of Set 1 | bluff\n",
      "Processing Record 32 of Set 1 | pevek\n",
      "Processing Record 33 of Set 1 | mitchell\n",
      "Processing Record 34 of Set 1 | pontianak\n",
      "Missing field/result... skipping.\n",
      "Processing Record 36 of Set 1 | san pedro\n",
      "Processing Record 37 of Set 1 | rawson\n",
      "Processing Record 38 of Set 1 | zhezkazgan\n",
      "Processing Record 39 of Set 1 | beloha\n",
      "Processing Record 40 of Set 1 | butaritari\n",
      "Processing Record 41 of Set 1 | bestobe\n",
      "Processing Record 42 of Set 1 | victoria\n",
      "Processing Record 43 of Set 1 | albany\n",
      "Processing Record 44 of Set 1 | vaini\n",
      "Processing Record 45 of Set 1 | bay roberts\n",
      "Processing Record 46 of Set 1 | neyyattinkara\n",
      "Processing Record 47 of Set 1 | nicoya\n",
      "Processing Record 48 of Set 1 | denpasar\n",
      "Processing Record 49 of Set 1 | kapaa\n",
      "Processing Record 50 of Set 1 | alekseyevsk\n",
      "Processing Record 51 of Set 1 | margate\n",
      "Processing Record 52 of Set 1 | airai\n",
      "Processing Record 53 of Set 1 | syracuse\n",
      "Processing Record 54 of Set 1 | aldan\n",
      "Processing Record 55 of Set 1 | castro\n",
      "Processing Record 56 of Set 1 | deloraine\n",
      "Missing field/result... skipping.\n",
      "Processing Record 58 of Set 1 | cherskiy\n",
      "Processing Record 59 of Set 1 | coahuayana\n",
      "Missing field/result... skipping.\n",
      "Processing Record 61 of Set 1 | cape town\n",
      "Processing Record 62 of Set 1 | kysyl-syr\n",
      "Processing Record 63 of Set 1 | nemuro\n",
      "Processing Record 64 of Set 1 | burnie\n",
      "Processing Record 65 of Set 1 | port macquarie\n",
      "Processing Record 66 of Set 1 | klaksvik\n",
      "Processing Record 67 of Set 1 | qazvin\n",
      "Processing Record 68 of Set 1 | grindavik\n",
      "Processing Record 69 of Set 1 | bairiki\n",
      "Processing Record 70 of Set 1 | thompson\n",
      "Processing Record 71 of Set 1 | oranjestad\n",
      "Processing Record 72 of Set 1 | khudumelapye\n",
      "Processing Record 73 of Set 1 | clyde river\n",
      "Processing Record 74 of Set 1 | kavaratti\n",
      "Processing Record 75 of Set 1 | port alfred\n",
      "Missing field/result... skipping.\n",
      "Missing field/result... skipping.\n",
      "Processing Record 78 of Set 1 | kloulklubed\n",
      "Processing Record 79 of Set 1 | cidreira\n",
      "Processing Record 80 of Set 1 | luau\n",
      "Processing Record 81 of Set 1 | konevo\n",
      "Processing Record 82 of Set 1 | sibolga\n",
      "Processing Record 83 of Set 1 | lebu\n",
      "Processing Record 84 of Set 1 | kavieng\n",
      "Processing Record 85 of Set 1 | cayenne\n",
      "Processing Record 86 of Set 1 | wangqing\n",
      "Missing field/result... skipping.\n",
      "Processing Record 88 of Set 1 | hofn\n",
      "Processing Record 89 of Set 1 | necochea\n",
      "Processing Record 90 of Set 1 | punta arenas\n",
      "Processing Record 91 of Set 1 | benguela\n",
      "Processing Record 92 of Set 1 | barrow\n",
      "Processing Record 93 of Set 1 | alofi\n",
      "Processing Record 94 of Set 1 | saldanha\n",
      "Processing Record 95 of Set 1 | upernavik\n",
      "Processing Record 96 of Set 1 | saint george\n",
      "Processing Record 97 of Set 1 | saint-philippe\n",
      "Processing Record 98 of Set 1 | khatanga\n",
      "Processing Record 99 of Set 1 | mataura\n",
      "Missing field/result... skipping.\n",
      "Processing Record 101 of Set 1 | ribeira grande\n",
      "Processing Record 102 of Set 1 | shache\n",
      "Processing Record 103 of Set 1 | grants\n",
      "Processing Record 104 of Set 1 | addanki\n",
      "Processing Record 105 of Set 1 | arkhangelsk\n",
      "Processing Record 106 of Set 1 | souillac\n",
      "Processing Record 107 of Set 1 | ilulissat\n",
      "Missing field/result... skipping.\n",
      "Processing Record 109 of Set 1 | calamar\n",
      "Processing Record 110 of Set 1 | tuktoyaktuk\n",
      "Processing Record 111 of Set 1 | pimentel\n",
      "Processing Record 112 of Set 1 | vila franca do campo\n",
      "Processing Record 113 of Set 1 | bredasdorp\n",
      "Missing field/result... skipping.\n",
      "Processing Record 115 of Set 1 | xining\n",
      "Missing field/result... skipping.\n",
      "Processing Record 117 of Set 1 | port elizabeth\n",
      "Processing Record 118 of Set 1 | jamestown\n",
      "Processing Record 119 of Set 1 | yellowknife\n",
      "Processing Record 120 of Set 1 | katsuura\n",
      "Processing Record 121 of Set 1 | tezu\n",
      "Processing Record 122 of Set 1 | nenjiang\n",
      "Missing field/result... skipping.\n",
      "Processing Record 124 of Set 1 | anadyr\n",
      "Processing Record 125 of Set 1 | san quintin\n",
      "Processing Record 126 of Set 1 | kaitangata\n",
      "Missing field/result... skipping.\n",
      "Processing Record 128 of Set 1 | imbituba\n",
      "Processing Record 129 of Set 1 | dingle\n",
      "Processing Record 130 of Set 1 | ancud\n",
      "Processing Record 131 of Set 1 | paamiut\n",
      "Processing Record 132 of Set 1 | shu\n",
      "Processing Record 133 of Set 1 | ponta do sol\n",
      "Processing Record 134 of Set 1 | severobaykalsk\n",
      "Processing Record 135 of Set 1 | kaoma\n",
      "Processing Record 136 of Set 1 | chokurdakh\n",
      "Processing Record 137 of Set 1 | haines junction\n",
      "Processing Record 138 of Set 1 | ardakan\n",
      "Processing Record 139 of Set 1 | susurluk\n",
      "Processing Record 140 of Set 1 | coquimbo\n",
      "Processing Record 141 of Set 1 | ambunti\n",
      "Processing Record 142 of Set 1 | san ramon\n",
      "Processing Record 143 of Set 1 | masuguru\n",
      "Processing Record 144 of Set 1 | hithadhoo\n",
      "Processing Record 145 of Set 1 | luza\n",
      "Processing Record 146 of Set 1 | sao filipe\n",
      "Processing Record 147 of Set 1 | ambon\n",
      "Processing Record 148 of Set 1 | kalianget\n",
      "Processing Record 149 of Set 1 | lavrentiya\n",
      "Processing Record 150 of Set 1 | baruun-urt\n",
      "Processing Record 151 of Set 1 | hermanus\n",
      "Processing Record 152 of Set 1 | bathsheba\n",
      "Processing Record 153 of Set 1 | quatre cocos\n",
      "Processing Record 154 of Set 1 | puerto ayora\n",
      "Processing Record 155 of Set 1 | tiksi\n",
      "Processing Record 156 of Set 1 | guerrero negro\n",
      "Processing Record 157 of Set 1 | bonthe\n",
      "Processing Record 158 of Set 1 | marsa matruh\n",
      "Processing Record 159 of Set 1 | touros\n",
      "Processing Record 160 of Set 1 | male\n",
      "Processing Record 161 of Set 1 | puerto carreno\n",
      "Processing Record 162 of Set 1 | scottsboro\n",
      "Processing Record 163 of Set 1 | hastings\n",
      "Processing Record 164 of Set 1 | vila velha\n",
      "Missing field/result... skipping.\n",
      "Processing Record 166 of Set 1 | caravelas\n",
      "Processing Record 167 of Set 1 | pozo colorado\n",
      "Processing Record 168 of Set 1 | launceston\n",
      "Processing Record 169 of Set 1 | coihaique\n",
      "Processing Record 170 of Set 1 | isiro\n",
      "Processing Record 171 of Set 1 | umm lajj\n",
      "Processing Record 172 of Set 1 | namibe\n",
      "Processing Record 173 of Set 1 | saskylakh\n",
      "Processing Record 174 of Set 1 | darhan\n",
      "Processing Record 175 of Set 1 | gat\n",
      "Processing Record 176 of Set 1 | carnarvon\n",
      "Processing Record 177 of Set 1 | viedma\n",
      "Processing Record 178 of Set 1 | pontes e lacerda\n",
      "Processing Record 179 of Set 1 | yakima\n",
      "Processing Record 180 of Set 1 | wanning\n",
      "Processing Record 181 of Set 1 | ngorongoro\n",
      "Missing field/result... skipping.\n",
      "Processing Record 183 of Set 1 | kropotkin\n",
      "Processing Record 184 of Set 1 | aswan\n",
      "Missing field/result... skipping.\n",
      "Processing Record 186 of Set 1 | mahebourg\n",
      "Processing Record 187 of Set 1 | mar del plata\n",
      "Missing field/result... skipping.\n",
      "Processing Record 189 of Set 1 | soyo\n",
      "Processing Record 190 of Set 1 | belo jardim\n",
      "Processing Record 191 of Set 1 | san patricio\n",
      "Processing Record 192 of Set 1 | tomatlan\n",
      "Processing Record 193 of Set 1 | avarua\n",
      "Processing Record 194 of Set 1 | gigmoto\n",
      "Processing Record 195 of Set 1 | asau\n",
      "Processing Record 196 of Set 1 | port-gentil\n",
      "Processing Record 197 of Set 1 | esperance\n",
      "Processing Record 198 of Set 1 | torbay\n",
      "Processing Record 199 of Set 1 | ilhabela\n",
      "Processing Record 200 of Set 1 | columbia\n"
     ]
    },
    {
     "name": "stdout",
     "output_type": "stream",
     "text": [
      "Processing Record 201 of Set 1 | hobyo\n",
      "Processing Record 202 of Set 1 | corpus christi\n",
      "Processing Record 203 of Set 1 | svetlogorsk\n",
      "Processing Record 204 of Set 1 | komsomolskiy\n",
      "Processing Record 205 of Set 1 | oktyabrskoye\n",
      "Processing Record 206 of Set 1 | garowe\n",
      "Processing Record 207 of Set 1 | longyearbyen\n",
      "Processing Record 208 of Set 1 | livingston\n",
      "Processing Record 209 of Set 1 | sioux lookout\n",
      "Processing Record 210 of Set 1 | maceio\n",
      "Processing Record 211 of Set 1 | fortuna\n",
      "Processing Record 212 of Set 1 | hervey bay\n",
      "Processing Record 213 of Set 1 | grand gaube\n",
      "Processing Record 214 of Set 1 | yerbogachen\n",
      "Processing Record 215 of Set 1 | hay river\n",
      "Processing Record 216 of Set 1 | duzce\n",
      "Processing Record 217 of Set 1 | kruisfontein\n",
      "Processing Record 218 of Set 1 | arraial do cabo\n",
      "Processing Record 219 of Set 1 | adrar\n",
      "Processing Record 220 of Set 1 | bandarbeyla\n",
      "Processing Record 221 of Set 1 | kieta\n",
      "Processing Record 222 of Set 1 | gornopravdinsk\n",
      "Missing field/result... skipping.\n",
      "Processing Record 224 of Set 1 | manggar\n",
      "Processing Record 225 of Set 1 | show low\n",
      "Processing Record 226 of Set 1 | luwuk\n",
      "Processing Record 227 of Set 1 | gravdal\n",
      "Processing Record 228 of Set 1 | san cristobal\n",
      "Processing Record 229 of Set 1 | broome\n",
      "Processing Record 230 of Set 1 | teberda\n",
      "Processing Record 231 of Set 1 | brae\n",
      "Processing Record 232 of Set 1 | krasnoselkup\n",
      "Processing Record 233 of Set 1 | concepcion del uruguay\n",
      "Processing Record 234 of Set 1 | zhigansk\n",
      "Processing Record 235 of Set 1 | noumea\n",
      "Processing Record 236 of Set 1 | perigueux\n",
      "Processing Record 237 of Set 1 | vanavara\n",
      "Processing Record 238 of Set 1 | sarangani\n",
      "Processing Record 239 of Set 1 | whitehorse\n",
      "Processing Record 240 of Set 1 | elizabeth city\n",
      "Processing Record 241 of Set 1 | yenagoa\n",
      "Processing Record 242 of Set 1 | bedele\n",
      "Processing Record 243 of Set 1 | la ronge\n",
      "Processing Record 244 of Set 1 | bambous virieux\n",
      "Processing Record 245 of Set 1 | kirakira\n",
      "Missing field/result... skipping.\n",
      "Processing Record 247 of Set 1 | gainesville\n",
      "Processing Record 248 of Set 1 | srednekolymsk\n",
      "Processing Record 249 of Set 1 | san isidro\n",
      "Processing Record 250 of Set 1 | broken hill\n",
      "Processing Record 251 of Set 1 | kamen-rybolov\n",
      "Processing Record 252 of Set 1 | maniitsoq\n",
      "Processing Record 253 of Set 1 | new norfolk\n",
      "Processing Record 254 of Set 1 | talnakh\n",
      "Processing Record 255 of Set 1 | andenes\n",
      "Missing field/result... skipping.\n",
      "Processing Record 257 of Set 1 | lubango\n",
      "Processing Record 258 of Set 1 | sao luis do quitunde\n",
      "Processing Record 259 of Set 1 | te anau\n",
      "Processing Record 260 of Set 1 | chuy\n",
      "Processing Record 261 of Set 1 | okhotsk\n",
      "Processing Record 262 of Set 1 | dunedin\n",
      "Processing Record 263 of Set 1 | waipawa\n",
      "Processing Record 264 of Set 1 | black river\n",
      "Processing Record 265 of Set 1 | geraldton\n",
      "Processing Record 266 of Set 1 | aurillac\n",
      "Processing Record 267 of Set 1 | neiafu\n",
      "Processing Record 268 of Set 1 | krabi\n",
      "Missing field/result... skipping.\n",
      "Processing Record 270 of Set 1 | davila\n",
      "Processing Record 271 of Set 1 | east wenatchee bench\n",
      "Processing Record 272 of Set 1 | nanortalik\n",
      "Processing Record 273 of Set 1 | hambantota\n",
      "Processing Record 274 of Set 1 | sawtell\n",
      "Processing Record 275 of Set 1 | severo-yeniseyskiy\n",
      "Processing Record 276 of Set 1 | marawi\n",
      "Processing Record 277 of Set 1 | dikson\n",
      "Processing Record 278 of Set 1 | awjilah\n",
      "Processing Record 279 of Set 1 | nushki\n",
      "Processing Record 280 of Set 1 | georgetown\n",
      "Processing Record 281 of Set 1 | beringovskiy\n",
      "Missing field/result... skipping.\n",
      "Processing Record 283 of Set 1 | remanso\n",
      "Processing Record 284 of Set 1 | ketchikan\n",
      "Processing Record 285 of Set 1 | dasoguz\n",
      "Processing Record 286 of Set 1 | port lincoln\n",
      "Processing Record 287 of Set 1 | caconda\n",
      "Processing Record 288 of Set 1 | bethel\n",
      "Processing Record 289 of Set 1 | yining\n",
      "Processing Record 290 of Set 1 | dalnerechensk\n",
      "Processing Record 291 of Set 1 | mount isa\n",
      "Processing Record 292 of Set 1 | provideniya\n",
      "Processing Record 293 of Set 1 | tanete\n",
      "Missing field/result... skipping.\n",
      "Processing Record 295 of Set 1 | cabo san lucas\n",
      "Processing Record 296 of Set 1 | taphan hin\n",
      "Missing field/result... skipping.\n",
      "Processing Record 298 of Set 1 | brooks\n",
      "Processing Record 299 of Set 1 | ampere\n",
      "Processing Record 300 of Set 1 | vardo\n",
      "Processing Record 301 of Set 1 | akdepe\n",
      "Processing Record 302 of Set 1 | khandbari\n",
      "Processing Record 303 of Set 1 | liaozhong\n",
      "Processing Record 304 of Set 1 | tabas\n",
      "Processing Record 305 of Set 1 | pangody\n",
      "Processing Record 306 of Set 1 | uray\n",
      "Processing Record 307 of Set 1 | yarkovo\n",
      "Processing Record 308 of Set 1 | santa cruz do sul\n",
      "Processing Record 309 of Set 1 | kailua\n",
      "Processing Record 310 of Set 1 | narsaq\n",
      "Processing Record 311 of Set 1 | diffa\n",
      "Processing Record 312 of Set 1 | ayan\n",
      "Processing Record 313 of Set 1 | tommot\n",
      "Processing Record 314 of Set 1 | dayong\n",
      "Processing Record 315 of Set 1 | baneh\n",
      "Processing Record 316 of Set 1 | bonavista\n",
      "Processing Record 317 of Set 1 | mount gambier\n",
      "Processing Record 318 of Set 1 | opuwo\n",
      "Processing Record 319 of Set 1 | faya\n",
      "Processing Record 320 of Set 1 | maumere\n",
      "Processing Record 321 of Set 1 | little current\n",
      "Missing field/result... skipping.\n",
      "Processing Record 323 of Set 1 | nikolskoye\n",
      "Processing Record 324 of Set 1 | whitefish\n",
      "Processing Record 325 of Set 1 | iqaluit\n",
      "Processing Record 326 of Set 1 | iskateley\n",
      "Processing Record 327 of Set 1 | iki-burul\n",
      "Processing Record 328 of Set 1 | ritchie\n",
      "Processing Record 329 of Set 1 | leningradskiy\n",
      "Processing Record 330 of Set 1 | huilong\n",
      "Processing Record 331 of Set 1 | sjenica\n",
      "Processing Record 332 of Set 1 | marshall\n",
      "Processing Record 333 of Set 1 | acapulco\n",
      "Processing Record 334 of Set 1 | rafsanjan\n",
      "Processing Record 335 of Set 1 | pampa\n",
      "Processing Record 336 of Set 1 | henties bay\n",
      "Processing Record 337 of Set 1 | ekhabi\n",
      "Processing Record 338 of Set 1 | gazli\n",
      "Processing Record 339 of Set 1 | badajoz\n",
      "Processing Record 340 of Set 1 | pak phanang\n",
      "Processing Record 341 of Set 1 | myitkyina\n",
      "Processing Record 342 of Set 1 | sosva\n",
      "Processing Record 343 of Set 1 | fagernes\n",
      "Processing Record 344 of Set 1 | kungurtug\n",
      "Processing Record 345 of Set 1 | norman wells\n",
      "Processing Record 346 of Set 1 | cairns\n",
      "Processing Record 347 of Set 1 | carballo\n",
      "Processing Record 348 of Set 1 | araouane\n",
      "Processing Record 349 of Set 1 | teguise\n",
      "Processing Record 350 of Set 1 | maroantsetra\n",
      "Processing Record 351 of Set 1 | sistranda\n",
      "Missing field/result... skipping.\n",
      "Processing Record 353 of Set 1 | santa marta\n",
      "Processing Record 354 of Set 1 | boende\n",
      "Processing Record 355 of Set 1 | port hardy\n",
      "Processing Record 356 of Set 1 | port hawkesbury\n",
      "Processing Record 357 of Set 1 | mehamn\n",
      "Processing Record 358 of Set 1 | itamaraca\n",
      "Processing Record 359 of Set 1 | sosnovo\n",
      "Processing Record 360 of Set 1 | nefteyugansk\n",
      "Processing Record 361 of Set 1 | betafo\n",
      "Processing Record 362 of Set 1 | amapa\n",
      "Missing field/result... skipping.\n",
      "Processing Record 364 of Set 1 | mazatlan\n",
      "Processing Record 365 of Set 1 | port augusta\n",
      "Processing Record 366 of Set 1 | ryotsu\n",
      "Processing Record 367 of Set 1 | snyder\n",
      "Processing Record 368 of Set 1 | buala\n",
      "Processing Record 369 of Set 1 | oistins\n",
      "Processing Record 370 of Set 1 | general roca\n",
      "Processing Record 371 of Set 1 | arman\n",
      "Missing field/result... skipping.\n",
      "Processing Record 373 of Set 1 | sitka\n",
      "Processing Record 374 of Set 1 | gorontalo\n",
      "Processing Record 375 of Set 1 | hasaki\n",
      "Processing Record 376 of Set 1 | port hedland\n",
      "Processing Record 377 of Set 1 | mareeba\n",
      "Processing Record 378 of Set 1 | hualmay\n",
      "Processing Record 379 of Set 1 | atar\n",
      "Missing field/result... skipping.\n",
      "Processing Record 381 of Set 1 | fuling\n",
      "Missing field/result... skipping.\n",
      "Missing field/result... skipping.\n",
      "Processing Record 384 of Set 1 | blagoyevo\n",
      "Processing Record 385 of Set 1 | jalu\n",
      "Processing Record 386 of Set 1 | trelew\n",
      "Processing Record 387 of Set 1 | nova olimpia\n",
      "Processing Record 388 of Set 1 | novorzhev\n",
      "Processing Record 389 of Set 1 | quelimane\n",
      "Processing Record 390 of Set 1 | saint-francois\n",
      "Processing Record 391 of Set 1 | isangel\n",
      "Processing Record 392 of Set 1 | lagoa\n",
      "Processing Record 393 of Set 1 | ust-kuyga\n",
      "Processing Record 394 of Set 1 | rio grande\n",
      "Processing Record 395 of Set 1 | cockburn town\n"
     ]
    },
    {
     "name": "stdout",
     "output_type": "stream",
     "text": [
      "Processing Record 396 of Set 1 | jerantut\n",
      "Processing Record 397 of Set 1 | dergachi\n",
      "Processing Record 398 of Set 1 | eirunepe\n",
      "Processing Record 399 of Set 1 | roebourne\n",
      "Processing Record 400 of Set 1 | meulaboh\n",
      "Processing Record 401 of Set 1 | nuristan\n",
      "Processing Record 402 of Set 1 | richards bay\n",
      "Processing Record 403 of Set 1 | erenhot\n",
      "Missing field/result... skipping.\n",
      "Processing Record 405 of Set 1 | tocopilla\n",
      "Processing Record 406 of Set 1 | luena\n",
      "Processing Record 407 of Set 1 | tetouan\n",
      "Processing Record 408 of Set 1 | pisco\n",
      "Processing Record 409 of Set 1 | vanimo\n",
      "Processing Record 410 of Set 1 | jizan\n",
      "Missing field/result... skipping.\n",
      "Processing Record 412 of Set 1 | xichang\n",
      "Processing Record 413 of Set 1 | murgab\n",
      "Processing Record 414 of Set 1 | sioux city\n",
      "Processing Record 415 of Set 1 | presidencia roque saenz pena\n",
      "Processing Record 416 of Set 1 | nizhniye sergi\n",
      "Processing Record 417 of Set 1 | kovacica\n",
      "Processing Record 418 of Set 1 | leiyang\n",
      "Processing Record 419 of Set 1 | sept-iles\n",
      "Processing Record 420 of Set 1 | iturama\n",
      "Processing Record 421 of Set 1 | ascension\n",
      "Processing Record 422 of Set 1 | kongolo\n",
      "Processing Record 423 of Set 1 | adre\n",
      "Processing Record 424 of Set 1 | high level\n",
      "Processing Record 425 of Set 1 | lichinga\n",
      "Processing Record 426 of Set 1 | mushie\n",
      "Processing Record 427 of Set 1 | salekhard\n",
      "Processing Record 428 of Set 1 | jalor\n",
      "Processing Record 429 of Set 1 | balykshi\n",
      "Processing Record 430 of Set 1 | barsovo\n",
      "Processing Record 431 of Set 1 | santa maria\n",
      "Processing Record 432 of Set 1 | praia\n",
      "Processing Record 433 of Set 1 | bandipur\n",
      "Processing Record 434 of Set 1 | sechura\n",
      "Processing Record 435 of Set 1 | aquiraz\n",
      "Processing Record 436 of Set 1 | saint-pierre\n",
      "Processing Record 437 of Set 1 | stromness\n",
      "Processing Record 438 of Set 1 | jian\n",
      "Processing Record 439 of Set 1 | pingliang\n",
      "Processing Record 440 of Set 1 | lompoc\n",
      "Processing Record 441 of Set 1 | luanda\n",
      "Processing Record 442 of Set 1 | ouallam\n",
      "Processing Record 443 of Set 1 | panama city\n",
      "Processing Record 444 of Set 1 | tuatapere\n",
      "Processing Record 445 of Set 1 | sal rei\n",
      "Processing Record 446 of Set 1 | hailun\n",
      "Processing Record 447 of Set 1 | dukat\n",
      "Processing Record 448 of Set 1 | chipinge\n",
      "Processing Record 449 of Set 1 | filadelfia\n",
      "Processing Record 450 of Set 1 | alanya\n",
      "Processing Record 451 of Set 1 | roald\n",
      "Processing Record 452 of Set 1 | kantunilkin\n",
      "Processing Record 453 of Set 1 | tuskegee\n",
      "Processing Record 454 of Set 1 | bakchar\n",
      "Processing Record 455 of Set 1 | kholtoson\n",
      "Processing Record 456 of Set 1 | vitina\n",
      "Processing Record 457 of Set 1 | camden\n",
      "Processing Record 458 of Set 1 | mumford\n",
      "Processing Record 459 of Set 1 | arona\n",
      "Processing Record 460 of Set 1 | inirida\n",
      "Processing Record 461 of Set 1 | posse\n",
      "Processing Record 462 of Set 1 | la rioja\n",
      "Missing field/result... skipping.\n",
      "Processing Record 464 of Set 1 | hami\n",
      "Processing Record 465 of Set 1 | kutum\n",
      "Processing Record 466 of Set 1 | urengoy\n",
      "Processing Record 467 of Set 1 | keti bandar\n",
      "Processing Record 468 of Set 1 | conde\n",
      "Processing Record 469 of Set 1 | porto novo\n",
      "Processing Record 470 of Set 1 | horta\n",
      "Processing Record 471 of Set 1 | semikarakorsk\n",
      "Processing Record 472 of Set 1 | azamgarh\n",
      "Processing Record 473 of Set 1 | antofagasta\n",
      "Processing Record 474 of Set 1 | santa cruz\n",
      "Processing Record 475 of Set 1 | wakkanai\n",
      "Processing Record 476 of Set 1 | gamba\n",
      "Processing Record 477 of Set 1 | loreto\n",
      "Processing Record 478 of Set 1 | muros\n",
      "Processing Record 479 of Set 1 | atagay\n",
      "Processing Record 480 of Set 1 | perth\n",
      "Processing Record 481 of Set 1 | half moon bay\n",
      "Processing Record 482 of Set 1 | kawasaki\n",
      "Processing Record 483 of Set 1 | salinopolis\n",
      "Processing Record 484 of Set 1 | bima\n",
      "Processing Record 485 of Set 1 | puri\n",
      "Processing Record 486 of Set 1 | tengushevo\n",
      "Processing Record 487 of Set 1 | aracoiaba\n",
      "Processing Record 488 of Set 1 | padang\n",
      "Processing Record 489 of Set 1 | thiruvananthapuram\n",
      "Processing Record 490 of Set 1 | college\n",
      "Processing Record 491 of Set 1 | loandjili\n",
      "Processing Record 492 of Set 1 | dibulla\n",
      "Processing Record 493 of Set 1 | tougue\n",
      "Processing Record 494 of Set 1 | luderitz\n",
      "Processing Record 495 of Set 1 | kangaatsiaq\n",
      "Processing Record 496 of Set 1 | grand island\n",
      "Processing Record 497 of Set 1 | springbok\n",
      "Missing field/result... skipping.\n",
      "Processing Record 499 of Set 1 | circleville\n",
      "Processing Record 500 of Set 1 | tromso\n",
      "Processing Record 501 of Set 1 | the valley\n",
      "Processing Record 502 of Set 1 | bac lieu\n",
      "Processing Record 503 of Set 1 | cape coast\n",
      "Processing Record 504 of Set 1 | myslenice\n",
      "Processing Record 505 of Set 1 | aksu\n",
      "Processing Record 506 of Set 1 | lakatoro\n",
      "Processing Record 507 of Set 1 | lukulu\n",
      "Processing Record 508 of Set 1 | najran\n",
      "Processing Record 509 of Set 1 | aklavik\n",
      "Processing Record 510 of Set 1 | skelleftea\n",
      "Processing Record 511 of Set 1 | woodland\n",
      "Processing Record 512 of Set 1 | jiuquan\n",
      "Processing Record 513 of Set 1 | mehran\n",
      "Processing Record 514 of Set 1 | riyadh\n",
      "Processing Record 515 of Set 1 | san andres\n",
      "Processing Record 516 of Set 1 | bud\n",
      "Processing Record 517 of Set 1 | shelburne\n",
      "Missing field/result... skipping.\n",
      "Missing field/result... skipping.\n",
      "Processing Record 520 of Set 1 | straumen\n",
      "Processing Record 521 of Set 1 | praya\n",
      "Processing Record 522 of Set 1 | tessalit\n",
      "Processing Record 523 of Set 1 | jiazi\n",
      "Processing Record 524 of Set 1 | chlorakas\n",
      "Processing Record 525 of Set 1 | kaeo\n",
      "Processing Record 526 of Set 1 | kiunga\n",
      "Processing Record 527 of Set 1 | keita\n",
      "Processing Record 528 of Set 1 | santa rosa\n",
      "Processing Record 529 of Set 1 | salalah\n",
      "Processing Record 530 of Set 1 | zavitinsk\n",
      "Processing Record 531 of Set 1 | kyra\n",
      "Processing Record 532 of Set 1 | korba\n",
      "Processing Record 533 of Set 1 | maltahohe\n",
      "Processing Record 534 of Set 1 | vidim\n",
      "Processing Record 535 of Set 1 | bilma\n",
      "Processing Record 536 of Set 1 | ondjiva\n",
      "Missing field/result... skipping.\n",
      "Processing Record 538 of Set 1 | knysna\n",
      "Processing Record 539 of Set 1 | kandara\n",
      "Processing Record 540 of Set 1 | morros\n",
      "Missing field/result... skipping.\n",
      "Missing field/result... skipping.\n",
      "Processing Record 543 of Set 1 | rabat\n",
      "Processing Record 544 of Set 1 | yanam\n",
      "Processing Record 545 of Set 1 | ahipara\n",
      "Processing Record 546 of Set 1 | rameshki\n",
      "Processing Record 547 of Set 1 | sorland\n",
      "Processing Record 548 of Set 1 | batagay-alyta\n",
      "Processing Record 549 of Set 1 | ibi\n",
      "Processing Record 550 of Set 1 | korcula\n",
      "Processing Record 551 of Set 1 | vaitape\n",
      "Processing Record 552 of Set 1 | kalabo\n",
      "Processing Record 553 of Set 1 | oranjemund\n",
      "Processing Record 554 of Set 1 | pacific grove\n",
      "Processing Record 555 of Set 1 | providencia\n",
      "Processing Record 556 of Set 1 | harrison\n",
      "Processing Record 557 of Set 1 | warman\n",
      "Processing Record 558 of Set 1 | turka\n",
      "Processing Record 559 of Set 1 | sur\n",
      "Processing Record 560 of Set 1 | bantou\n",
      "Processing Record 561 of Set 1 | negombo\n",
      "Processing Record 562 of Set 1 | kargil\n",
      "Processing Record 563 of Set 1 | vega de alatorre\n",
      "Processing Record 564 of Set 1 | kamaishi\n",
      "Processing Record 565 of Set 1 | zambezi\n",
      "Processing Record 566 of Set 1 | marshalltown\n",
      "Processing Record 567 of Set 1 | naryan-mar\n",
      "Processing Record 568 of Set 1 | lasa\n",
      "Processing Record 569 of Set 1 | inhambane\n",
      "Processing Record 570 of Set 1 | vao\n",
      "Processing Record 571 of Set 1 | chunskiy\n",
      "Processing Record 572 of Set 1 | malanje\n",
      "Processing Record 573 of Set 1 | portland\n",
      "Processing Record 574 of Set 1 | luba\n",
      "Processing Record 575 of Set 1 | port blair\n",
      "Processing Record 576 of Set 1 | teya\n",
      "Processing Record 577 of Set 1 | constitucion\n",
      "Processing Record 578 of Set 1 | ornskoldsvik\n",
      "Processing Record 579 of Set 1 | webuye\n",
      "Processing Record 580 of Set 1 | sibi\n",
      "Processing Record 581 of Set 1 | sokoni\n",
      "Processing Record 582 of Set 1 | korla\n",
      "Processing Record 583 of Set 1 | sterling\n",
      "Processing Record 584 of Set 1 | paita\n",
      "Processing Record 585 of Set 1 | udachnyy\n",
      "Processing Record 586 of Set 1 | leopold\n",
      "Processing Record 587 of Set 1 | abu samrah\n",
      "Processing Record 588 of Set 1 | bogale\n",
      "Processing Record 589 of Set 1 | dali\n",
      "Processing Record 590 of Set 1 | husavik\n",
      "Processing Record 591 of Set 1 | llano de piedra\n",
      "Processing Record 592 of Set 1 | uaua\n",
      "Processing Record 593 of Set 1 | kununurra\n",
      "Processing Record 594 of Set 1 | kilindoni\n"
     ]
    },
    {
     "name": "stdout",
     "output_type": "stream",
     "text": [
      "Processing Record 595 of Set 1 | lata\n",
      "Processing Record 596 of Set 1 | bourail\n",
      "Processing Record 597 of Set 1 | puerto escondido\n",
      "Processing Record 598 of Set 1 | trairi\n",
      "Processing Record 599 of Set 1 | andros\n",
      "Processing Record 600 of Set 1 | atbasar\n",
      "Processing Record 601 of Set 1 | khorramabad\n",
      "Processing Record 602 of Set 1 | deputatskiy\n",
      "Processing Record 603 of Set 1 | farafangana\n",
      "Processing Record 604 of Set 1 | togur\n",
      "Processing Record 605 of Set 1 | muroto\n",
      "Processing Record 606 of Set 1 | coihueco\n",
      "Processing Record 607 of Set 1 | avera\n",
      "Processing Record 608 of Set 1 | beauvais\n",
      "Processing Record 609 of Set 1 | pokhara\n",
      "Processing Record 610 of Set 1 | tongchuan\n",
      "Processing Record 611 of Set 1 | sebastian\n",
      "Processing Record 612 of Set 1 | saint john\n",
      "Processing Record 613 of Set 1 | nalut\n",
      "Processing Record 614 of Set 1 | montes altos\n",
      "Processing Record 615 of Set 1 | roma\n",
      "Processing Record 616 of Set 1 | honiara\n",
      "Missing field/result... skipping.\n"
     ]
    },
    {
     "data": {
      "text/html": [
       "<div>\n",
       "<style scoped>\n",
       "    .dataframe tbody tr th:only-of-type {\n",
       "        vertical-align: middle;\n",
       "    }\n",
       "\n",
       "    .dataframe tbody tr th {\n",
       "        vertical-align: top;\n",
       "    }\n",
       "\n",
       "    .dataframe thead th {\n",
       "        text-align: right;\n",
       "    }\n",
       "</style>\n",
       "<table border=\"1\" class=\"dataframe\">\n",
       "  <thead>\n",
       "    <tr style=\"text-align: right;\">\n",
       "      <th></th>\n",
       "      <th>City</th>\n",
       "      <th>Lat</th>\n",
       "      <th>Lng</th>\n",
       "      <th>Max Temp</th>\n",
       "      <th>Humidity</th>\n",
       "      <th>Cloudiness</th>\n",
       "      <th>Wind Speed</th>\n",
       "      <th>Country</th>\n",
       "      <th>Date</th>\n",
       "    </tr>\n",
       "  </thead>\n",
       "  <tbody>\n",
       "    <tr>\n",
       "      <td>0</td>\n",
       "      <td>kosovo polje</td>\n",
       "      <td>42.6394</td>\n",
       "      <td>21.0961</td>\n",
       "      <td>57.83</td>\n",
       "      <td>67</td>\n",
       "      <td>40</td>\n",
       "      <td>5.99</td>\n",
       "      <td>XK</td>\n",
       "      <td>1622007259</td>\n",
       "    </tr>\n",
       "    <tr>\n",
       "      <td>1</td>\n",
       "      <td>hilo</td>\n",
       "      <td>19.7297</td>\n",
       "      <td>-155.09</td>\n",
       "      <td>80.28</td>\n",
       "      <td>85</td>\n",
       "      <td>75</td>\n",
       "      <td>4.61</td>\n",
       "      <td>US</td>\n",
       "      <td>1622007215</td>\n",
       "    </tr>\n",
       "    <tr>\n",
       "      <td>2</td>\n",
       "      <td>bengkulu</td>\n",
       "      <td>-3.8004</td>\n",
       "      <td>102.266</td>\n",
       "      <td>86.07</td>\n",
       "      <td>69</td>\n",
       "      <td>98</td>\n",
       "      <td>9.31</td>\n",
       "      <td>ID</td>\n",
       "      <td>1622007259</td>\n",
       "    </tr>\n",
       "    <tr>\n",
       "      <td>3</td>\n",
       "      <td>chapais</td>\n",
       "      <td>49.7834</td>\n",
       "      <td>-74.8492</td>\n",
       "      <td>62.38</td>\n",
       "      <td>97</td>\n",
       "      <td>67</td>\n",
       "      <td>9.89</td>\n",
       "      <td>CA</td>\n",
       "      <td>1622007260</td>\n",
       "    </tr>\n",
       "    <tr>\n",
       "      <td>4</td>\n",
       "      <td>hamilton</td>\n",
       "      <td>39.1834</td>\n",
       "      <td>-84.5333</td>\n",
       "      <td>73.15</td>\n",
       "      <td>79</td>\n",
       "      <td>1</td>\n",
       "      <td>4.94</td>\n",
       "      <td>US</td>\n",
       "      <td>1622007242</td>\n",
       "    </tr>\n",
       "  </tbody>\n",
       "</table>\n",
       "</div>"
      ],
      "text/plain": [
       "           City      Lat      Lng Max Temp Humidity Cloudiness Wind Speed  \\\n",
       "0  kosovo polje  42.6394  21.0961    57.83       67         40       5.99   \n",
       "1          hilo  19.7297  -155.09    80.28       85         75       4.61   \n",
       "2      bengkulu  -3.8004  102.266    86.07       69         98       9.31   \n",
       "3       chapais  49.7834 -74.8492    62.38       97         67       9.89   \n",
       "4      hamilton  39.1834 -84.5333    73.15       79          1       4.94   \n",
       "\n",
       "  Country        Date  \n",
       "0      XK  1622007259  \n",
       "1      US  1622007215  \n",
       "2      ID  1622007259  \n",
       "3      CA  1622007260  \n",
       "4      US  1622007242  "
      ]
     },
     "execution_count": 7,
     "metadata": {},
     "output_type": "execute_result"
    }
   ],
   "source": [
    "for index, row in data.iterrows():\n",
    "    query_url = f\"{url}appid={weather_api_key}&units={units}&q=\"\n",
    "    city=row[\"City\"]\n",
    "    response = requests.get(query_url + city).json()\n",
    "    try:           \n",
    "        data.loc[index, \"Lat\"] = response[\"coord\"][\"lat\"]\n",
    "        data.loc[index, \"Lng\"] = response[\"coord\"][\"lon\"]\n",
    "        data.loc[index, \"Max Temp\"]= response[\"main\"][\"temp_max\"]\n",
    "        data.loc[index, \"Humidity\"] = response[\"main\"][\"humidity\"]\n",
    "        data.loc[index, \"Cloudiness\"] = response[\"clouds\"][\"all\"]\n",
    "        data.loc[index, \"Wind Speed\"] = response[\"wind\"][\"speed\"]\n",
    "        data.loc[index, \"Country\"] = response[\"sys\"][\"country\"]\n",
    "        data.loc[index, \"Date\"] = response[\"dt\"]\n",
    "        print(f'Processing Record {index} of Set 1 | {city}')\n",
    "    except (KeyError, IndexError):\n",
    "        print(\"Missing field/result... skipping.\")\n",
    "data.head()"
   ]
  },
  {
   "cell_type": "markdown",
   "metadata": {},
   "source": [
    "### Convert Raw Data to DataFrame\n",
    "* Export the city data into a .csv.\n",
    "* Display the DataFrame"
   ]
  },
  {
   "cell_type": "code",
   "execution_count": 8,
   "metadata": {},
   "outputs": [
    {
     "data": {
      "text/html": [
       "<div>\n",
       "<style scoped>\n",
       "    .dataframe tbody tr th:only-of-type {\n",
       "        vertical-align: middle;\n",
       "    }\n",
       "\n",
       "    .dataframe tbody tr th {\n",
       "        vertical-align: top;\n",
       "    }\n",
       "\n",
       "    .dataframe thead th {\n",
       "        text-align: right;\n",
       "    }\n",
       "</style>\n",
       "<table border=\"1\" class=\"dataframe\">\n",
       "  <thead>\n",
       "    <tr style=\"text-align: right;\">\n",
       "      <th></th>\n",
       "      <th>City</th>\n",
       "      <th>Lat</th>\n",
       "      <th>Lng</th>\n",
       "      <th>Max Temp</th>\n",
       "      <th>Humidity</th>\n",
       "      <th>Cloudiness</th>\n",
       "      <th>Wind Speed</th>\n",
       "      <th>Country</th>\n",
       "      <th>Date</th>\n",
       "    </tr>\n",
       "  </thead>\n",
       "  <tbody>\n",
       "    <tr>\n",
       "      <td>0</td>\n",
       "      <td>kosovo polje</td>\n",
       "      <td>42.6394</td>\n",
       "      <td>21.0961</td>\n",
       "      <td>57.83</td>\n",
       "      <td>67</td>\n",
       "      <td>40</td>\n",
       "      <td>5.99</td>\n",
       "      <td>XK</td>\n",
       "      <td>1622007259</td>\n",
       "    </tr>\n",
       "    <tr>\n",
       "      <td>1</td>\n",
       "      <td>hilo</td>\n",
       "      <td>19.7297</td>\n",
       "      <td>-155.09</td>\n",
       "      <td>80.28</td>\n",
       "      <td>85</td>\n",
       "      <td>75</td>\n",
       "      <td>4.61</td>\n",
       "      <td>US</td>\n",
       "      <td>1622007215</td>\n",
       "    </tr>\n",
       "    <tr>\n",
       "      <td>2</td>\n",
       "      <td>bengkulu</td>\n",
       "      <td>-3.8004</td>\n",
       "      <td>102.266</td>\n",
       "      <td>86.07</td>\n",
       "      <td>69</td>\n",
       "      <td>98</td>\n",
       "      <td>9.31</td>\n",
       "      <td>ID</td>\n",
       "      <td>1622007259</td>\n",
       "    </tr>\n",
       "    <tr>\n",
       "      <td>3</td>\n",
       "      <td>chapais</td>\n",
       "      <td>49.7834</td>\n",
       "      <td>-74.8492</td>\n",
       "      <td>62.38</td>\n",
       "      <td>97</td>\n",
       "      <td>67</td>\n",
       "      <td>9.89</td>\n",
       "      <td>CA</td>\n",
       "      <td>1622007260</td>\n",
       "    </tr>\n",
       "    <tr>\n",
       "      <td>4</td>\n",
       "      <td>hamilton</td>\n",
       "      <td>39.1834</td>\n",
       "      <td>-84.5333</td>\n",
       "      <td>73.15</td>\n",
       "      <td>79</td>\n",
       "      <td>1</td>\n",
       "      <td>4.94</td>\n",
       "      <td>US</td>\n",
       "      <td>1622007242</td>\n",
       "    </tr>\n",
       "    <tr>\n",
       "      <td>...</td>\n",
       "      <td>...</td>\n",
       "      <td>...</td>\n",
       "      <td>...</td>\n",
       "      <td>...</td>\n",
       "      <td>...</td>\n",
       "      <td>...</td>\n",
       "      <td>...</td>\n",
       "      <td>...</td>\n",
       "      <td>...</td>\n",
       "    </tr>\n",
       "    <tr>\n",
       "      <td>613</td>\n",
       "      <td>nalut</td>\n",
       "      <td>30.3333</td>\n",
       "      <td>10.85</td>\n",
       "      <td>73.6</td>\n",
       "      <td>47</td>\n",
       "      <td>1</td>\n",
       "      <td>15.88</td>\n",
       "      <td>LY</td>\n",
       "      <td>1622007362</td>\n",
       "    </tr>\n",
       "    <tr>\n",
       "      <td>614</td>\n",
       "      <td>montes altos</td>\n",
       "      <td>-5.8333</td>\n",
       "      <td>-47.0667</td>\n",
       "      <td>72.09</td>\n",
       "      <td>81</td>\n",
       "      <td>9</td>\n",
       "      <td>1.43</td>\n",
       "      <td>BR</td>\n",
       "      <td>1622007460</td>\n",
       "    </tr>\n",
       "    <tr>\n",
       "      <td>615</td>\n",
       "      <td>roma</td>\n",
       "      <td>43.2128</td>\n",
       "      <td>-75.4557</td>\n",
       "      <td>73.26</td>\n",
       "      <td>78</td>\n",
       "      <td>1</td>\n",
       "      <td>0</td>\n",
       "      <td>US</td>\n",
       "      <td>1622007171</td>\n",
       "    </tr>\n",
       "    <tr>\n",
       "      <td>616</td>\n",
       "      <td>honiara</td>\n",
       "      <td>-9.4333</td>\n",
       "      <td>159.95</td>\n",
       "      <td>81.19</td>\n",
       "      <td>79</td>\n",
       "      <td>100</td>\n",
       "      <td>2.62</td>\n",
       "      <td>SB</td>\n",
       "      <td>1622007461</td>\n",
       "    </tr>\n",
       "    <tr>\n",
       "      <td>617</td>\n",
       "      <td>sorvag</td>\n",
       "      <td></td>\n",
       "      <td></td>\n",
       "      <td></td>\n",
       "      <td></td>\n",
       "      <td></td>\n",
       "      <td></td>\n",
       "      <td></td>\n",
       "      <td></td>\n",
       "    </tr>\n",
       "  </tbody>\n",
       "</table>\n",
       "<p>618 rows × 9 columns</p>\n",
       "</div>"
      ],
      "text/plain": [
       "             City      Lat      Lng Max Temp Humidity Cloudiness Wind Speed  \\\n",
       "0    kosovo polje  42.6394  21.0961    57.83       67         40       5.99   \n",
       "1            hilo  19.7297  -155.09    80.28       85         75       4.61   \n",
       "2        bengkulu  -3.8004  102.266    86.07       69         98       9.31   \n",
       "3         chapais  49.7834 -74.8492    62.38       97         67       9.89   \n",
       "4        hamilton  39.1834 -84.5333    73.15       79          1       4.94   \n",
       "..            ...      ...      ...      ...      ...        ...        ...   \n",
       "613         nalut  30.3333    10.85     73.6       47          1      15.88   \n",
       "614  montes altos  -5.8333 -47.0667    72.09       81          9       1.43   \n",
       "615          roma  43.2128 -75.4557    73.26       78          1          0   \n",
       "616       honiara  -9.4333   159.95    81.19       79        100       2.62   \n",
       "617        sorvag                                                             \n",
       "\n",
       "    Country        Date  \n",
       "0        XK  1622007259  \n",
       "1        US  1622007215  \n",
       "2        ID  1622007259  \n",
       "3        CA  1622007260  \n",
       "4        US  1622007242  \n",
       "..      ...         ...  \n",
       "613      LY  1622007362  \n",
       "614      BR  1622007460  \n",
       "615      US  1622007171  \n",
       "616      SB  1622007461  \n",
       "617                      \n",
       "\n",
       "[618 rows x 9 columns]"
      ]
     },
     "execution_count": 8,
     "metadata": {},
     "output_type": "execute_result"
    }
   ],
   "source": [
    "data.to_csv(\"city_data.csv\")\n",
    "data"
   ]
  },
  {
   "cell_type": "code",
   "execution_count": 9,
   "metadata": {},
   "outputs": [
    {
     "data": {
      "text/html": [
       "<div>\n",
       "<style scoped>\n",
       "    .dataframe tbody tr th:only-of-type {\n",
       "        vertical-align: middle;\n",
       "    }\n",
       "\n",
       "    .dataframe tbody tr th {\n",
       "        vertical-align: top;\n",
       "    }\n",
       "\n",
       "    .dataframe thead th {\n",
       "        text-align: right;\n",
       "    }\n",
       "</style>\n",
       "<table border=\"1\" class=\"dataframe\">\n",
       "  <thead>\n",
       "    <tr style=\"text-align: right;\">\n",
       "      <th></th>\n",
       "      <th>Lat</th>\n",
       "      <th>Lng</th>\n",
       "      <th>Max Temp</th>\n",
       "      <th>Humidity</th>\n",
       "      <th>Cloudiness</th>\n",
       "      <th>Wind Speed</th>\n",
       "      <th>Date</th>\n",
       "    </tr>\n",
       "  </thead>\n",
       "  <tbody>\n",
       "    <tr>\n",
       "      <td>count</td>\n",
       "      <td>575.000000</td>\n",
       "      <td>575.000000</td>\n",
       "      <td>575.000000</td>\n",
       "      <td>575.000000</td>\n",
       "      <td>575.000000</td>\n",
       "      <td>575.000000</td>\n",
       "      <td>5.750000e+02</td>\n",
       "    </tr>\n",
       "    <tr>\n",
       "      <td>mean</td>\n",
       "      <td>20.057801</td>\n",
       "      <td>19.305360</td>\n",
       "      <td>65.770052</td>\n",
       "      <td>65.666087</td>\n",
       "      <td>54.260870</td>\n",
       "      <td>8.230574</td>\n",
       "      <td>1.622007e+09</td>\n",
       "    </tr>\n",
       "    <tr>\n",
       "      <td>std</td>\n",
       "      <td>33.271324</td>\n",
       "      <td>88.867536</td>\n",
       "      <td>16.756458</td>\n",
       "      <td>23.220121</td>\n",
       "      <td>37.825863</td>\n",
       "      <td>5.619158</td>\n",
       "      <td>8.417196e+01</td>\n",
       "    </tr>\n",
       "    <tr>\n",
       "      <td>min</td>\n",
       "      <td>-54.800000</td>\n",
       "      <td>-175.200000</td>\n",
       "      <td>23.230000</td>\n",
       "      <td>7.000000</td>\n",
       "      <td>0.000000</td>\n",
       "      <td>0.000000</td>\n",
       "      <td>1.622007e+09</td>\n",
       "    </tr>\n",
       "    <tr>\n",
       "      <td>25%</td>\n",
       "      <td>-8.401150</td>\n",
       "      <td>-58.487000</td>\n",
       "      <td>53.575000</td>\n",
       "      <td>53.000000</td>\n",
       "      <td>17.000000</td>\n",
       "      <td>4.080000</td>\n",
       "      <td>1.622007e+09</td>\n",
       "    </tr>\n",
       "    <tr>\n",
       "      <td>50%</td>\n",
       "      <td>25.383300</td>\n",
       "      <td>23.029700</td>\n",
       "      <td>66.160000</td>\n",
       "      <td>69.000000</td>\n",
       "      <td>60.000000</td>\n",
       "      <td>7.140000</td>\n",
       "      <td>1.622007e+09</td>\n",
       "    </tr>\n",
       "    <tr>\n",
       "      <td>75%</td>\n",
       "      <td>46.449900</td>\n",
       "      <td>98.020100</td>\n",
       "      <td>79.385000</td>\n",
       "      <td>84.000000</td>\n",
       "      <td>91.000000</td>\n",
       "      <td>10.985000</td>\n",
       "      <td>1.622007e+09</td>\n",
       "    </tr>\n",
       "    <tr>\n",
       "      <td>max</td>\n",
       "      <td>78.218600</td>\n",
       "      <td>179.316700</td>\n",
       "      <td>106.860000</td>\n",
       "      <td>100.000000</td>\n",
       "      <td>100.000000</td>\n",
       "      <td>38.900000</td>\n",
       "      <td>1.622007e+09</td>\n",
       "    </tr>\n",
       "  </tbody>\n",
       "</table>\n",
       "</div>"
      ],
      "text/plain": [
       "              Lat         Lng    Max Temp    Humidity  Cloudiness  Wind Speed  \\\n",
       "count  575.000000  575.000000  575.000000  575.000000  575.000000  575.000000   \n",
       "mean    20.057801   19.305360   65.770052   65.666087   54.260870    8.230574   \n",
       "std     33.271324   88.867536   16.756458   23.220121   37.825863    5.619158   \n",
       "min    -54.800000 -175.200000   23.230000    7.000000    0.000000    0.000000   \n",
       "25%     -8.401150  -58.487000   53.575000   53.000000   17.000000    4.080000   \n",
       "50%     25.383300   23.029700   66.160000   69.000000   60.000000    7.140000   \n",
       "75%     46.449900   98.020100   79.385000   84.000000   91.000000   10.985000   \n",
       "max     78.218600  179.316700  106.860000  100.000000  100.000000   38.900000   \n",
       "\n",
       "               Date  \n",
       "count  5.750000e+02  \n",
       "mean   1.622007e+09  \n",
       "std    8.417196e+01  \n",
       "min    1.622007e+09  \n",
       "25%    1.622007e+09  \n",
       "50%    1.622007e+09  \n",
       "75%    1.622007e+09  \n",
       "max    1.622007e+09  "
      ]
     },
     "execution_count": 9,
     "metadata": {},
     "output_type": "execute_result"
    }
   ],
   "source": [
    "data['Lat'] = pd.to_numeric(data['Lat'], errors='coerce')\n",
    "data['Lng'] = pd.to_numeric(data['Lng'], errors='coerce')\n",
    "data['Max Temp'] = pd.to_numeric(data['Max Temp'], errors='coerce')\n",
    "data['Humidity'] = pd.to_numeric(data['Humidity'], errors='coerce')\n",
    "data['Cloudiness'] = pd.to_numeric(data['Cloudiness'], errors='coerce')\n",
    "data['Wind Speed'] = pd.to_numeric(data['Wind Speed'], errors='coerce')\n",
    "data['Date'] = pd.to_numeric(data['Date'], errors='coerce')\n",
    "data.describe()"
   ]
  },
  {
   "cell_type": "markdown",
   "metadata": {},
   "source": [
    "## Inspect the data and remove the cities where the humidity > 100%.\n",
    "----\n",
    "Skip this step if there are no cities that have humidity > 100%. "
   ]
  },
  {
   "cell_type": "code",
   "execution_count": 10,
   "metadata": {},
   "outputs": [
    {
     "data": {
      "text/plain": [
       "0"
      ]
     },
     "execution_count": 10,
     "metadata": {},
     "output_type": "execute_result"
    }
   ],
   "source": [
    "high_humidity = data[(data['Humidity'] > 100)][\"City\"].count()\n",
    "high_humidity"
   ]
  },
  {
   "cell_type": "markdown",
   "metadata": {},
   "source": [
    "## Plotting the Data\n",
    "* Use proper labeling of the plots using plot titles (including date of analysis) and axes labels.\n",
    "* Save the plotted figures as .pngs."
   ]
  },
  {
   "cell_type": "markdown",
   "metadata": {},
   "source": [
    "## Latitude vs. Temperature Plot"
   ]
  },
  {
   "cell_type": "code",
   "execution_count": 11,
   "metadata": {
    "scrolled": true
   },
   "outputs": [
    {
     "data": {
      "image/png": "[encoded data removed]",
      "text/plain": [
       "<Figure size 432x288 with 1 Axes>"
      ]
     },
     "metadata": {
      "needs_background": "light"
     },
     "output_type": "display_data"
    }
   ],
   "source": [
    "latitude_temperature = current_date = date.today()\n",
    "date_text = current_date.strftime(\"%B %d, %Y\")\n",
    "data.plot.scatter(x='Lat', y='Max Temp')\n",
    "plt.title(f\"City Latitude vs Max Temperature ({date_text})\")\n",
    "plt.xlabel(\"Latitude\")\n",
    "plt.ylabel(\"Max Temperature (F)\")\n",
    "plt.grid()\n",
    "plt.savefig('latitude_temperature.png')"
   ]
  },
  {
   "cell_type": "markdown",
   "metadata": {},
   "source": [
    "This code is analyzing the max tempurature of a city relative to it's latitude. The equater is at latitude 0, so it makes sense that higher max temps cluster towards the center.\n"
   ]
  },
  {
   "cell_type": "markdown",
   "metadata": {},
   "source": [
    "## Latitude vs. Humidity Plot"
   ]
  },
  {
   "cell_type": "code",
   "execution_count": 12,
   "metadata": {},
   "outputs": [
    {
     "data": {
      "image/png": "[encoded data removed]",
      "text/plain": [
       "<Figure size 432x288 with 1 Axes>"
      ]
     },
     "metadata": {
      "needs_background": "light"
     },
     "output_type": "display_data"
    }
   ],
   "source": [
    "latitude_humidity = data.plot.scatter(x='Lat', y='Humidity')\n",
    "plt.title(f\"City Latitude vs Humidity ({date_text})\")\n",
    "plt.xlabel(\"Latitude\")\n",
    "plt.ylabel(\"Humidity (%)\")\n",
    "plt.grid()\n",
    "plt.savefig('latitude_humidity')"
   ]
  },
  {
   "cell_type": "markdown",
   "metadata": {},
   "source": [
    "This code is analyzing the humidity level of a city relative to it's latitude. There does not appear to be much relation between the two."
   ]
  },
  {
   "cell_type": "markdown",
   "metadata": {},
   "source": [
    "## Latitude vs. Cloudiness Plot"
   ]
  },
  {
   "cell_type": "code",
   "execution_count": 13,
   "metadata": {},
   "outputs": [
    {
     "data": {
      "image/png": "[encoded data removed]",
      "text/plain": [
       "<Figure size 432x288 with 1 Axes>"
      ]
     },
     "metadata": {
      "needs_background": "light"
     },
     "output_type": "display_data"
    }
   ],
   "source": [
    "latitude_cloudiness = data.plot.scatter(x='Lat', y='Cloudiness')\n",
    "plt.title(f\"City Latitude vs Cloudiness ({date_text})\")\n",
    "plt.xlabel(\"Latitude\")\n",
    "plt.ylabel(\"Cloudiness (%)\")\n",
    "plt.grid()\n",
    "plt.savefig('latitude_cloudiness.png')"
   ]
  },
  {
   "cell_type": "markdown",
   "metadata": {},
   "source": [
    "This code is analyzing the percent cloudiness of a city relative to it's latitude. Much like humidity level, there does not appear to be much relation between the two."
   ]
  },
  {
   "cell_type": "markdown",
   "metadata": {},
   "source": [
    "## Latitude vs. Wind Speed Plot"
   ]
  },
  {
   "cell_type": "code",
   "execution_count": 14,
   "metadata": {},
   "outputs": [
    {
     "data": {
      "image/png": "[encoded data removed]",
      "text/plain": [
       "<Figure size 432x288 with 1 Axes>"
      ]
     },
     "metadata": {
      "needs_background": "light"
     },
     "output_type": "display_data"
    }
   ],
   "source": [
    "latitude_wind_speed = data.plot.scatter(x='Lat', y='Wind Speed')\n",
    "plt.title(f\"City Latitude vs Wind Speed ({date_text})\")\n",
    "plt.xlabel(\"Latitude\")\n",
    "plt.ylabel(\"Wind Speed (mph)\")\n",
    "plt.grid()\n",
    "plt.savefig('latitude_wind_speed.png')"
   ]
  },
  {
   "cell_type": "markdown",
   "metadata": {},
   "source": [
    "This code is analyzing the windspeed of a city relative to it's latitude. Much like the last two graphs, there does not appear to be much relation between the two, however there does appear to be more distinct outliers, which implies some sort of relationship."
   ]
  },
  {
   "cell_type": "markdown",
   "metadata": {},
   "source": [
    "## Linear Regression"
   ]
  },
  {
   "cell_type": "code",
   "execution_count": 15,
   "metadata": {},
   "outputs": [],
   "source": [
    "north_data = data[data['Lat'] > 0] \n",
    "south_data = data[data['Lat'] < 0]\n",
    "north_x = north_data['Lat']\n",
    "south_x = south_data['Lat']"
   ]
  },
  {
   "cell_type": "markdown",
   "metadata": {},
   "source": [
    "####  Northern Hemisphere - Max Temp vs. Latitude Linear Regression"
   ]
  },
  {
   "cell_type": "code",
   "execution_count": 16,
   "metadata": {},
   "outputs": [
    {
     "data": {
      "image/png": "[encoded data removed]",
      "text/plain": [
       "<Figure size 432x288 with 1 Axes>"
      ]
     },
     "metadata": {
      "needs_background": "light"
     },
     "output_type": "display_data"
    },
    {
     "name": "stdout",
     "output_type": "stream",
     "text": [
      "y = -0.72 * x + 94.01\n"
     ]
    }
   ],
   "source": [
    "x = north_x\n",
    "y = north_data['Max Temp']\n",
    "plt.scatter(x,y)\n",
    "plt.title(\"Northern Hemisphere - Max Temp vs. Latitude\")\n",
    "plt.xlabel(\"Latitude\")\n",
    "plt.ylabel(\"Max Temp (F)\")\n",
    "m, b = np.polyfit(x, y, 1)\n",
    "plt.plot(x, m*x + b, color=\"red\")\n",
    "plt.show()\n",
    "print(f'y = {round(m,2)} * x + {round(b,2)}')"
   ]
  },
  {
   "cell_type": "markdown",
   "metadata": {},
   "source": [
    "####  Southern Hemisphere - Max Temp vs. Latitude Linear Regression"
   ]
  },
  {
   "cell_type": "code",
   "execution_count": 17,
   "metadata": {},
   "outputs": [
    {
     "data": {
      "image/png": "[encoded data removed]",
      "text/plain": [
       "<Figure size 432x288 with 1 Axes>"
      ]
     },
     "metadata": {
      "needs_background": "light"
     },
     "output_type": "display_data"
    },
    {
     "name": "stdout",
     "output_type": "stream",
     "text": [
      "y = 0.77 * x + 81.66\n"
     ]
    }
   ],
   "source": [
    "x = south_x\n",
    "y = south_data['Max Temp']\n",
    "plt.scatter(x,y)\n",
    "plt.title(\"Southern Hemisphere - Max Temp vs. Latitude\")\n",
    "plt.xlabel(\"Latitude\")\n",
    "plt.ylabel(\"Max Temp (F)\")\n",
    "m, b = np.polyfit(x, y, 1)\n",
    "plt.plot(x, m*x + b, color=\"red\")\n",
    "plt.gca().invert_xaxis()\n",
    "plt.show()\n",
    "print(f'y = {round(m,2)} * x + {round(b,2)}')"
   ]
  },
  {
   "cell_type": "markdown",
   "metadata": {},
   "source": [
    "This code is analyzing the max tempurature of a city relative to it's latitude and creating two graphs. The first graph starts at the equater and works north while the second also starts at the equater but then progresses south. The Northern Hemisphere appears to have a greater corelation while the Southern Hemisphere has more variance between max temp and latitude."
   ]
  },
  {
   "cell_type": "markdown",
   "metadata": {},
   "source": [
    "####  Northern Hemisphere - Humidity (%) vs. Latitude Linear Regression"
   ]
  },
  {
   "cell_type": "code",
   "execution_count": 18,
   "metadata": {},
   "outputs": [
    {
     "data": {
      "image/png": "[encoded data removed]",
      "text/plain": [
       "<Figure size 432x288 with 1 Axes>"
      ]
     },
     "metadata": {
      "needs_background": "light"
     },
     "output_type": "display_data"
    },
    {
     "name": "stdout",
     "output_type": "stream",
     "text": [
      "y = -0.03 * x + 64.39\n"
     ]
    }
   ],
   "source": [
    "x = north_x\n",
    "y = north_data['Humidity']\n",
    "plt.scatter(x,y)\n",
    "plt.title(\"Northern Hemisphere - Humidity vs. Latitude\")\n",
    "plt.xlabel(\"Latitude\")\n",
    "plt.ylabel(\"Humidity (%)\")\n",
    "m, b = np.polyfit(x, y, 1)\n",
    "plt.plot(x, m*x + b, color=\"red\")\n",
    "plt.show()\n",
    "print(f'y = {round(m,2)} * x + {round(b,2)}')"
   ]
  },
  {
   "cell_type": "markdown",
   "metadata": {},
   "source": [
    "####  Southern Hemisphere - Humidity (%) vs. Latitude Linear Regression"
   ]
  },
  {
   "cell_type": "code",
   "execution_count": 19,
   "metadata": {},
   "outputs": [
    {
     "data": {
      "image/png": "[encoded data removed]",
      "text/plain": [
       "<Figure size 432x288 with 1 Axes>"
      ]
     },
     "metadata": {
      "needs_background": "light"
     },
     "output_type": "display_data"
    },
    {
     "name": "stdout",
     "output_type": "stream",
     "text": [
      "y = 0.19 * x + 74.81\n"
     ]
    }
   ],
   "source": [
    "x = south_x\n",
    "y = south_data['Humidity']\n",
    "plt.scatter(x,y)\n",
    "plt.title(\"Southern Hemisphere - Humidity vs. Latitude\")\n",
    "plt.xlabel(\"Latitude\")\n",
    "plt.ylabel(\"Humidity (%)\")\n",
    "m, b = np.polyfit(x, y, 1)\n",
    "plt.plot(x, m*x + b, color=\"red\")\n",
    "plt.gca().invert_xaxis()\n",
    "plt.show()\n",
    "print(f'y = {round(m,2)} * x + {round(b,2)}')"
   ]
  },
  {
   "cell_type": "markdown",
   "metadata": {},
   "source": [
    "This code is analyzing the humidity level of a city relative to it's latitude and creating two graphs. The first graph starts at the equater and works north while the second also starts at the equater but then progresses south. The Northern Hemisphere appears to have a slight trend towards higher humidity as you get further from the equater. Meanwhile, the Southern Hemisphere appears to have a more pronounced trend towards higher humidity as you get further from the equater. Either way however, the correlation is far too low to say anything conclusively."
   ]
  },
  {
   "cell_type": "markdown",
   "metadata": {},
   "source": [
    "####  Northern Hemisphere - Cloudiness (%) vs. Latitude Linear Regression"
   ]
  },
  {
   "cell_type": "code",
   "execution_count": 20,
   "metadata": {},
   "outputs": [
    {
     "data": {
      "image/png": "[encoded data removed]",
      "text/plain": [
       "<Figure size 432x288 with 1 Axes>"
      ]
     },
     "metadata": {
      "needs_background": "light"
     },
     "output_type": "display_data"
    },
    {
     "name": "stdout",
     "output_type": "stream",
     "text": [
      "y = -0.0 * x + 57.51\n"
     ]
    }
   ],
   "source": [
    "x = north_x\n",
    "y = north_data['Cloudiness']\n",
    "plt.scatter(x,y)\n",
    "plt.title(\"Northern Hemisphere - Cloudiness vs. Latitude\")\n",
    "plt.xlabel(\"Latitude\")\n",
    "plt.ylabel(\"Cloudiness (%)\")\n",
    "m, b = np.polyfit(x, y, 1)\n",
    "plt.plot(x, m*x + b, color=\"red\")\n",
    "plt.show()\n",
    "print(f'y = {round(m,2)} * x + {round(b,2)}')"
   ]
  },
  {
   "cell_type": "markdown",
   "metadata": {},
   "source": [
    "####  Southern Hemisphere - Cloudiness (%) vs. Latitude Linear Regression"
   ]
  },
  {
   "cell_type": "code",
   "execution_count": 21,
   "metadata": {},
   "outputs": [
    {
     "data": {
      "image/png": "[encoded data removed]",
      "text/plain": [
       "<Figure size 432x288 with 1 Axes>"
      ]
     },
     "metadata": {
      "needs_background": "light"
     },
     "output_type": "display_data"
    },
    {
     "name": "stdout",
     "output_type": "stream",
     "text": [
      "y = -0.27 * x + 41.72\n"
     ]
    }
   ],
   "source": [
    "x = south_x\n",
    "y = south_data['Cloudiness']\n",
    "plt.scatter(x,y)\n",
    "plt.title(\"Southern Hemisphere - Cloudiness vs. Latitude\")\n",
    "plt.xlabel(\"Latitude\")\n",
    "plt.ylabel(\"Cloudiness (%)\")\n",
    "m, b = np.polyfit(x, y, 1)\n",
    "plt.plot(x, m*x + b, color=\"red\")\n",
    "plt.gca().invert_xaxis()\n",
    "plt.show()\n",
    "print(f'y = {round(m,2)} * x + {round(b,2)}')"
   ]
  },
  {
   "cell_type": "markdown",
   "metadata": {},
   "source": [
    "This code is analyzing the percent cloudiness of a city relative to it's latitude and creating two graphs. The first graph starts at the equater and works north while the second also starts at the equater but then progresses south. There is minimal, if any, correlation."
   ]
  },
  {
   "cell_type": "markdown",
   "metadata": {},
   "source": [
    "####  Northern Hemisphere - Wind Speed (mph) vs. Latitude Linear Regression"
   ]
  },
  {
   "cell_type": "code",
   "execution_count": 22,
   "metadata": {},
   "outputs": [
    {
     "data": {
      "image/png": "[encoded data removed]",
      "text/plain": [
       "<Figure size 432x288 with 1 Axes>"
      ]
     },
     "metadata": {
      "needs_background": "light"
     },
     "output_type": "display_data"
    },
    {
     "name": "stdout",
     "output_type": "stream",
     "text": [
      "y = 0.03 * x + 7.65\n"
     ]
    }
   ],
   "source": [
    "x = north_x\n",
    "y = north_data['Wind Speed']\n",
    "plt.scatter(x,y)\n",
    "plt.title(\"Northern Hemisphere - Wind Speed vs. Latitude\")\n",
    "plt.xlabel(\"Latitude\")\n",
    "plt.ylabel(\"Wind Speed (mph)\")\n",
    "m, b = np.polyfit(x, y, 1)\n",
    "plt.plot(x, m*x + b, color=\"red\")\n",
    "plt.show()\n",
    "print(f'y = {round(m,2)} * x + {round(b,2)}')"
   ]
  },
  {
   "cell_type": "markdown",
   "metadata": {},
   "source": [
    "####  Southern Hemisphere - Wind Speed (mph) vs. Latitude Linear Regression"
   ]
  },
  {
   "cell_type": "code",
   "execution_count": 23,
   "metadata": {},
   "outputs": [
    {
     "data": {
      "image/png": "[encoded data removed]",
      "text/plain": [
       "<Figure size 432x288 with 1 Axes>"
      ]
     },
     "metadata": {
      "needs_background": "light"
     },
     "output_type": "display_data"
    },
    {
     "name": "stdout",
     "output_type": "stream",
     "text": [
      "y = -0.0 * x + 7.04\n"
     ]
    }
   ],
   "source": [
    "x = south_x\n",
    "y = south_data['Wind Speed']\n",
    "plt.scatter(x,y)\n",
    "plt.title(\"Southern Hemisphere - Wind Speed vs. Latitude\")\n",
    "plt.xlabel(\"Latitude\")\n",
    "plt.ylabel(\"Wind Speed (mph)\")\n",
    "m, b = np.polyfit(x, y, 1)\n",
    "plt.plot(x, m*x + b, color=\"red\")\n",
    "plt.gca().invert_xaxis()\n",
    "plt.show()\n",
    "print(f'y = {round(m,2)} * x + {round(b,2)}')"
   ]
  },
  {
   "cell_type": "markdown",
   "metadata": {},
   "source": [
    "This code is analyzing the wind speed of a city relative to it's latitude and creating two graphs. The first graph starts at the equater and works north while the second also starts at the equater but then progresses south. The Northern Hemisphere appears to have minimal, if any, correlation. Meanwhile, the Southern Hemisphere appears to have some amount of correlation, however the correlation is far too low to say anything conclusively."
   ]
  }
 ],
 "metadata": {
  "anaconda-cloud": {},
  "kernel_info": {
   "name": "python3"
  },
  "kernelspec": {
   "display_name": "Python 3",
   "language": "python",
   "name": "python3"
  },
  "language_info": {
   "codemirror_mode": {
    "name": "ipython",
    "version": 3
   },
   "file_extension": ".py",
   "mimetype": "text/x-python",
   "name": "python",
   "nbconvert_exporter": "python",
   "pygments_lexer": "ipython3",
   "version": "3.7.4"
  },
  "latex_envs": {
   "LaTeX_envs_menu_present": true,
   "autoclose": false,
   "autocomplete": true,
   "bibliofile": "biblio.bib",
   "cite_by": "apalike",
   "current_citInitial": 1,
   "eqLabelWithNumbers": true,
   "eqNumInitial": 1,
   "hotkeys": {
    "equation": "Ctrl-E",
    "itemize": "Ctrl-I"
   },
   "labels_anchors": false,
   "latex_user_defs": false,
   "report_style_numbering": false,
   "user_envs_cfg": false
  },
  "nteract": {
   "version": "0.12.3"
  }
 },
 "nbformat": 4,
 "nbformat_minor": 2
}
